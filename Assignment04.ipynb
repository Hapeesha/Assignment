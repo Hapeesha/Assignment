{
 "cells": [
  {
   "cell_type": "code",
   "execution_count": 17,
   "id": "0cf236c4-a2d8-4b0f-b702-b7df72ae3d8a",
   "metadata": {},
   "outputs": [
    {
     "name": "stdin",
     "output_type": "stream",
     "text": [
      "Value: 10\n"
     ]
    },
    {
     "name": "stdout",
     "output_type": "stream",
     "text": [
      "CORRECT\n"
     ]
    }
   ],
   "source": [
    "i= int(input(\"Value:\"))\n",
    "if (i == 10):\n",
    "       print(\"CORRECT\")\n",
    "    \n"
   ]
  },
  {
   "cell_type": "code",
   "execution_count": 18,
   "id": "121aba2c-4076-428f-8478-9764dc11682d",
   "metadata": {},
   "outputs": [
    {
     "name": "stdin",
     "output_type": "stream",
     "text": [
      "Enter the Password: marstech@123\n"
     ]
    },
    {
     "name": "stdout",
     "output_type": "stream",
     "text": [
      "Your Password is Correct\n"
     ]
    }
   ],
   "source": [
    "password= (\"marstech@123\")\n",
    "pw= str (input(\"Enter the Password:\"))\n",
    "if (password == pw):\n",
    "         print(\"Your Password is Correct\")\n",
    "else: \n",
    " print(\"Your Password is Incorrect\")\n",
    "         \n"
   ]
  },
  {
   "cell_type": "code",
   "execution_count": 19,
   "id": "1f1ca430-0096-4277-a40c-933ecf0c960b",
   "metadata": {},
   "outputs": [
    {
     "name": "stdin",
     "output_type": "stream",
     "text": [
      "Age:  20\n"
     ]
    },
    {
     "name": "stdout",
     "output_type": "stream",
     "text": [
      "Adult\n"
     ]
    }
   ],
   "source": [
    "ag = int(input(\"Age: \"))  \n",
    "if ag < 18:  \n",
    "    print(\"children\")  \n",
    "elif 18 <= ag < 35:  \n",
    "    print(\"Adult\")  \n",
    "elif 35 <= ag < 45:  \n",
    "    print(\"citizen\")  \n",
    "else:  \n",
    "    print(\"senior citizen\")"
   ]
  },
  {
   "cell_type": "code",
   "execution_count": 20,
   "id": "32cdb46c-f72f-485d-afc5-eb7bf8bc2505",
   "metadata": {},
   "outputs": [
    {
     "name": "stdin",
     "output_type": "stream",
     "text": [
      " Enter any number: 1\n"
     ]
    },
    {
     "name": "stdout",
     "output_type": "stream",
     "text": [
      "No is Positive\n"
     ]
    }
   ],
   "source": [
    "num= float(input(\" Enter any number:\"))\n",
    "if (num>0):\n",
    "         print(\"No is Positive\")\n",
    "elif (num<0):\n",
    "    print(\"No is Negative\")\n",
    "else:\n",
    "    print(\"No is neither Positive nor Negative\")"
   ]
  },
  {
   "cell_type": "code",
   "execution_count": 21,
   "id": "42d8a599-fe9a-4fa5-8a6b-c692f5ad1296",
   "metadata": {},
   "outputs": [
    {
     "name": "stdin",
     "output_type": "stream",
     "text": [
      "Enter a number to check: 22\n"
     ]
    },
    {
     "name": "stdout",
     "output_type": "stream",
     "text": [
      "No is not divisible by 5\n"
     ]
    }
   ],
   "source": [
    "num= float(input(\"Enter a number to check:\"))\n",
    "if((num%5)==0):\n",
    "           print(\"No is divisible by 5\")\n",
    "else:\n",
    "           print(\"No is not divisible by 5\")\n",
    "  "
   ]
  },
  {
   "cell_type": "code",
   "execution_count": null,
   "id": "eacefcc8-29d5-4e95-a81c-dcd7b82c7101",
   "metadata": {},
   "outputs": [],
   "source": []
  }
 ],
 "metadata": {
  "kernelspec": {
   "display_name": "Python 3 (ipykernel)",
   "language": "python",
   "name": "python3"
  },
  "language_info": {
   "codemirror_mode": {
    "name": "ipython",
    "version": 3
   },
   "file_extension": ".py",
   "mimetype": "text/x-python",
   "name": "python",
   "nbconvert_exporter": "python",
   "pygments_lexer": "ipython3",
   "version": "3.12.7"
  }
 },
 "nbformat": 4,
 "nbformat_minor": 5
}
