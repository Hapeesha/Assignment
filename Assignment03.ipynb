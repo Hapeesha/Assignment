{
 "cells": [
  {
   "cell_type": "code",
   "execution_count": 32,
   "id": "0c7ab700-05da-4897-af1b-43c69633d20b",
   "metadata": {},
   "outputs": [
    {
     "name": "stdout",
     "output_type": "stream",
     "text": [
      "0\n",
      "1\n",
      "2\n",
      "3\n",
      "4\n",
      "5\n",
      "6\n",
      "7\n",
      "8\n",
      "9\n",
      "10\n",
      "11\n",
      "12\n",
      "13\n",
      "14\n",
      "15\n",
      "16\n",
      "17\n",
      "18\n",
      "19\n"
     ]
    }
   ],
   "source": [
    "for g in range(20):\n",
    "    print(g)"
   ]
  },
  {
   "cell_type": "code",
   "execution_count": 41,
   "id": "95e6cc46-98b3-4e10-b352-b613cb21a628",
   "metadata": {},
   "outputs": [
    {
     "name": "stdout",
     "output_type": "stream",
     "text": [
      "[10, 11, 12, 13, 14, 15, 16, 17, 18, 19]\n"
     ]
    }
   ],
   "source": [
    "num = list(range(10, 20))  \n",
    "print(num)"
   ]
  },
  {
   "cell_type": "code",
   "execution_count": 44,
   "id": "e0b63308-ff6f-474d-99ea-8ce947e16394",
   "metadata": {},
   "outputs": [
    {
     "name": "stdout",
     "output_type": "stream",
     "text": [
      "[10,20,14,55,43,87,76]\n",
      "Number of item in the list2:\n",
      "  7\n"
     ]
    }
   ],
   "source": [
    "print(\"[10,20,14,55,43,87,76]\")\n",
    "list2=[10,20,14,55,43,87,76]\n",
    "list1= len(list2)\n",
    "print(\"Number of item in the list2:\\n \" , list1)"
   ]
  },
  {
   "cell_type": "code",
   "execution_count": 45,
   "id": "7153e7b5-2eb7-4e02-9fe6-2b0c7be2aedb",
   "metadata": {},
   "outputs": [
    {
     "name": "stdout",
     "output_type": "stream",
     "text": [
      "Artificial Intelligence\n",
      "A\n",
      "r\n",
      "t\n",
      "i\n",
      "f\n",
      "i\n",
      "c\n",
      "i\n",
      "a\n",
      "l\n",
      " \n",
      "I\n",
      "n\n",
      "t\n",
      "e\n",
      "l\n",
      "l\n",
      "i\n",
      "g\n",
      "e\n",
      "n\n",
      "c\n",
      "e\n"
     ]
    }
   ],
   "source": [
    "print(\"Artificial Intelligence\")\n",
    "ai= ('Artificial Intelligence')\n",
    "for a in ai:\n",
    "    print(a)"
   ]
  },
  {
   "cell_type": "code",
   "execution_count": 46,
   "id": "84c73194-458b-44ae-86f1-28f81cf6372f",
   "metadata": {},
   "outputs": [
    {
     "name": "stdout",
     "output_type": "stream",
     "text": [
      "-Your Name-\n",
      "-Your Age-\n",
      "-Your Profession-\n"
     ]
    }
   ],
   "source": [
    "print(\"-Your Name-\")\n",
    "print(\"-Your Age-\")\n",
    "print(\"-Your Profession-\")"
   ]
  },
  {
   "cell_type": "code",
   "execution_count": 47,
   "id": "abfbe21a-6d7d-4192-bb94-a69c0fc8e85c",
   "metadata": {},
   "outputs": [
    {
     "name": "stdout",
     "output_type": "stream",
     "text": [
      "(1, 'Welcome', 2, 'mars tech')\n"
     ]
    }
   ],
   "source": [
    "tupe = (1,'Welcome',2,'mars tech')\n",
    "print(tupe)"
   ]
  },
  {
   "cell_type": "code",
   "execution_count": 51,
   "id": "c9c61b58-9189-430b-bfba-e04d52cfdb50",
   "metadata": {},
   "outputs": [
    {
     "name": "stdout",
     "output_type": "stream",
     "text": [
      "(0, 1, 2, 3, 'python', 'marstech')\n"
     ]
    }
   ],
   "source": [
    "tupe1= (0,1,2,3)\n",
    "tupe2=('python','marstech')\n",
    "print(tupe1+tupe2)"
   ]
  },
  {
   "cell_type": "code",
   "execution_count": 52,
   "id": "856e4e85-e2cc-4b40-8db4-671ec0dda290",
   "metadata": {},
   "outputs": [
    {
     "name": "stdout",
     "output_type": "stream",
     "text": [
      "19 is odd\n",
      "25 is odd\n",
      "1 is odd\n"
     ]
    }
   ],
   "source": [
    "list1= [20,10,16,19,25,1,276,188]\n",
    "for x in list1:\n",
    " if((x%2) != 0):\n",
    "    print(\"%d is odd\"%x)"
   ]
  },
  {
   "cell_type": "code",
   "execution_count": 53,
   "id": "594b2ddc-b094-40c8-9ced-2eba85784b38",
   "metadata": {},
   "outputs": [
    {
     "name": "stdout",
     "output_type": "stream",
     "text": [
      "20 is even\n",
      "10 is even\n",
      "16 is even\n",
      "276 is even\n",
      "188 is even\n"
     ]
    }
   ],
   "source": [
    "list1= [20,10,16,19,25,1,276,188]\n",
    "for x in list1:\n",
    " if((x%2) == 0):\n",
    "    print(\"%d is even\"%x)"
   ]
  },
  {
   "cell_type": "code",
   "execution_count": null,
   "id": "de8ec6ed-4655-444f-a4ae-803cbd9d3671",
   "metadata": {},
   "outputs": [],
   "source": []
  }
 ],
 "metadata": {
  "kernelspec": {
   "display_name": "Python 3 (ipykernel)",
   "language": "python",
   "name": "python3"
  },
  "language_info": {
   "codemirror_mode": {
    "name": "ipython",
    "version": 3
   },
   "file_extension": ".py",
   "mimetype": "text/x-python",
   "name": "python",
   "nbconvert_exporter": "python",
   "pygments_lexer": "ipython3",
   "version": "3.12.7"
  }
 },
 "nbformat": 4,
 "nbformat_minor": 5
}
