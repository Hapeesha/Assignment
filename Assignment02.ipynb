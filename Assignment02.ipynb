{
 "cells": [
  {
   "cell_type": "code",
   "execution_count": 1,
   "id": "c6be3558-cda5-4814-8b91-af85d93761ac",
   "metadata": {},
   "outputs": [
    {
     "name": "stdout",
     "output_type": "stream",
     "text": [
      "Mars Tech\n"
     ]
    }
   ],
   "source": [
    "print(\"Mars Tech\")"
   ]
  },
  {
   "cell_type": "code",
   "execution_count": 51,
   "id": "5cd83af9-98f1-401e-a085-53c710514f2b",
   "metadata": {},
   "outputs": [
    {
     "name": "stdin",
     "output_type": "stream",
     "text": [
      "Enter your institute name?  Mars Tech\n"
     ]
    }
   ],
   "source": [
    "name = str(input(\"Enter your institute name? \"))"
   ]
  },
  {
   "cell_type": "code",
   "execution_count": 52,
   "id": "c8843f38-2f66-4cc8-b4c9-69495292b6b1",
   "metadata": {},
   "outputs": [
    {
     "name": "stdin",
     "output_type": "stream",
     "text": [
      "Enter your Name:  Raj\n",
      "Enter Your Age:  15\n",
      "Enter Your School Name:  Guru School\n",
      "Enter Your Degree:  B.E.CSE\n"
     ]
    }
   ],
   "source": [
    "name = str(input(\"Enter your Name: \"))\n",
    "age = int(input(\"Enter Your Age: \"))\n",
    "school = str(input(\"Enter Your School Name: \"))\n",
    "degree = str(input(\"Enter Your Degree: \"))"
   ]
  },
  {
   "cell_type": "code",
   "execution_count": 53,
   "id": "4ad1d793-e79f-4b96-bd06-fc8e5620c425",
   "metadata": {},
   "outputs": [
    {
     "name": "stdout",
     "output_type": "stream",
     "text": [
      "a=43\n",
      " b=34\n",
      " add=77\n",
      "\n"
     ]
    }
   ],
   "source": [
    "a = 43\n",
    "b = 34\n",
    "add =  a+b\n",
    "print(\"a=%d\\n b=%d\\n add=%d\\n\"% (a , b, add))"
   ]
  },
  {
   "cell_type": "code",
   "execution_count": 55,
   "id": "891e7cb7-78cc-434a-a1ec-be959f9cec5b",
   "metadata": {},
   "outputs": [
    {
     "name": "stdout",
     "output_type": "stream",
     "text": [
      "a=43\n",
      " b=34\n",
      " sub=9\n",
      "\n"
     ]
    }
   ],
   "source": [
    "a = 43\n",
    "b = 34\n",
    "sub =  a-b\n",
    "print(\"a=%d\\n b=%d\\n sub=%d\\n\"% (a , b, sub))"
   ]
  },
  {
   "cell_type": "code",
   "execution_count": 14,
   "id": "59626ecf-d232-4f96-adb5-1d20765dc2dc",
   "metadata": {},
   "outputs": [
    {
     "name": "stdout",
     "output_type": "stream",
     "text": [
      "a=63\n",
      " b=97\n",
      " Mul=6111\n",
      "\n"
     ]
    }
   ],
   "source": [
    "a= 63\n",
    "b= 97\n",
    "Mul = a*b\n",
    "print(\"a=%d\\n b=%d\\n Mul=%d\\n\"% (a , b, Mul))\n"
   ]
  },
  {
   "cell_type": "code",
   "execution_count": 56,
   "id": "96dd7cf1-e6c1-436a-aed0-58c4d2c440f4",
   "metadata": {},
   "outputs": [
    {
     "name": "stdout",
     "output_type": "stream",
     "text": [
      "a=76\n",
      " b=31\n",
      "Float Div=2.4516129032258065\n"
     ]
    }
   ],
   "source": [
    "a= 76\n",
    "b= 31\n",
    "div = 76/31\n",
    "print(\"a=%d\\n b=%d\\nFloat Div=%.16f\"% (a,b,div))"
   ]
  },
  {
   "cell_type": "code",
   "execution_count": 57,
   "id": "fc87af7a-154f-456e-a3ab-eab348e9f15d",
   "metadata": {},
   "outputs": [
    {
     "name": "stdout",
     "output_type": "stream",
     "text": [
      "a=76\n",
      " b=31\n",
      "Floor Div=2\n"
     ]
    }
   ],
   "source": [
    "a=76\n",
    "b=31\n",
    "floor_div= a//b\n",
    "print(\"a=%d\\n b=%d\\nFloor Div=%.0f\"% (a,b,floor_div))"
   ]
  },
  {
   "cell_type": "code",
   "execution_count": 58,
   "id": "655f3dc0-2122-4abf-9b01-3bba9a7d1e73",
   "metadata": {},
   "outputs": [
    {
     "name": "stdout",
     "output_type": "stream",
     "text": [
      "a=76\n",
      " b=31\n",
      "Modulo=14\n"
     ]
    }
   ],
   "source": [
    "a=76\n",
    "b=31\n",
    "mod = a%b\n",
    "print(\"a=%d\\n b=%d\\nModulo=%.0f\"% (a,b,mod))"
   ]
  },
  {
   "cell_type": "code",
   "execution_count": 59,
   "id": "c6514a7e-c312-4d3c-b504-d309f89259d2",
   "metadata": {},
   "outputs": [
    {
     "name": "stdout",
     "output_type": "stream",
     "text": [
      "a=4\n",
      " b=4\n",
      "Power=256\n"
     ]
    }
   ],
   "source": [
    "a=4\n",
    "b=4\n",
    "power= a**b\n",
    "print(\"a=%d\\n b=%d\\nPower=%.0f\"% (a,b,power))"
   ]
  },
  {
   "cell_type": "markdown",
   "id": "362fda76-3930-411c-847b-91f95d9b8495",
   "metadata": {},
   "source": []
  },
  {
   "cell_type": "code",
   "execution_count": null,
   "id": "61aa44e7-ef48-405e-8a17-c371b62cae95",
   "metadata": {},
   "outputs": [],
   "source": []
  }
 ],
 "metadata": {
  "kernelspec": {
   "display_name": "Python 3 (ipykernel)",
   "language": "python",
   "name": "python3"
  },
  "language_info": {
   "codemirror_mode": {
    "name": "ipython",
    "version": 3
   },
   "file_extension": ".py",
   "mimetype": "text/x-python",
   "name": "python",
   "nbconvert_exporter": "python",
   "pygments_lexer": "ipython3",
   "version": "3.12.7"
  }
 },
 "nbformat": 4,
 "nbformat_minor": 5
}
