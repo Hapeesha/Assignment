{
 "cells": [
  {
   "cell_type": "code",
   "execution_count": 1,
   "id": "f25fe8b9-7a9e-455a-81de-16d45a691bc1",
   "metadata": {},
   "outputs": [
    {
     "name": "stdout",
     "output_type": "stream",
     "text": [
      "Welcome to Assignment-1\n"
     ]
    }
   ],
   "source": [
    "print(\"Welcome to Assignment-1\")"
   ]
  },
  {
   "cell_type": "code",
   "execution_count": 2,
   "id": "1431896e-2bf8-4f12-b10f-a10e0d596bd1",
   "metadata": {},
   "outputs": [
    {
     "name": "stdout",
     "output_type": "stream",
     "text": [
      "Nun1=10\n",
      "Nun2=30\n",
      "Add=40\n"
     ]
    }
   ],
   "source": [
    "\n",
    "print(\"Nun1=10\")\n",
    "print(\"Nun2=30\")\n",
    "print(\"Add=40\")"
   ]
  },
  {
   "cell_type": "code",
   "execution_count": 11,
   "id": "e592f639-bc1c-4ebc-8cd7-bffea8b4a049",
   "metadata": {},
   "outputs": [
    {
     "name": "stdin",
     "output_type": "stream",
     "text": [
      "Enter The BMI Index:  34\n"
     ]
    },
    {
     "name": "stdout",
     "output_type": "stream",
     "text": [
      "VeryOverWeight\n"
     ]
    }
   ],
   "source": [
    "weight= float(input(\"Enter The BMI Index: \"))\n",
    "if(weight< 18.5):\n",
    "    print(\"UnderWeight\")\n",
    "elif (weight>=18.5 and weight<24.9):\n",
    "    print(\"Normal\")\n",
    "elif (weight>=25.0 and weight<29.9):\n",
    "    print(\"OverWeight\")\n",
    "else:\n",
    "    print(\"VeryOverWeight\")"
   ]
  },
  {
   "cell_type": "code",
   "execution_count": null,
   "id": "360211b2-fe4a-45c6-8f36-f1cc362af370",
   "metadata": {},
   "outputs": [],
   "source": []
  }
 ],
 "metadata": {
  "kernelspec": {
   "display_name": "Python 3 (ipykernel)",
   "language": "python",
   "name": "python3"
  },
  "language_info": {
   "codemirror_mode": {
    "name": "ipython",
    "version": 3
   },
   "file_extension": ".py",
   "mimetype": "text/x-python",
   "name": "python",
   "nbconvert_exporter": "python",
   "pygments_lexer": "ipython3",
   "version": "3.12.7"
  }
 },
 "nbformat": 4,
 "nbformat_minor": 5
}
